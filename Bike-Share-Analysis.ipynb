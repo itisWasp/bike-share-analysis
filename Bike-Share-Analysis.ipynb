{
 "cells": [
  {
   "cell_type": "code",
   "execution_count": 2,
   "metadata": {
    "collapsed": true
   },
   "outputs": [],
   "source": [
    "import numpy as np\n",
    "import pandas as pd\n",
    "import seaborn as sns\n",
    "import matplotlib.pyplot as plt"
   ]
  },
  {
   "cell_type": "code",
   "execution_count": 3,
   "outputs": [],
   "source": [
    "data = pd.read_csv('Data/202201-divvy-tripdata.csv')"
   ],
   "metadata": {
    "collapsed": false,
    "pycharm": {
     "name": "#%%\n"
    }
   }
  },
  {
   "cell_type": "code",
   "execution_count": 4,
   "outputs": [
    {
     "data": {
      "text/plain": "            ride_id  rideable_type           started_at             ended_at  \\\n0  C2F7DD78E82EC875  electric_bike  2022-01-13 11:59:47  2022-01-13 12:02:44   \n1  A6CF8980A652D272  electric_bike  2022-01-10 08:41:56  2022-01-10 08:46:17   \n2  BD0F91DFF741C66D   classic_bike  2022-01-25 04:53:40  2022-01-25 04:58:01   \n3  CBB80ED419105406   classic_bike  2022-01-04 00:18:04  2022-01-04 00:33:00   \n4  DDC963BFDDA51EEA   classic_bike  2022-01-20 01:31:10  2022-01-20 01:37:12   \n\n              start_station_name start_station_id  \\\n0       Glenwood Ave & Touhy Ave              525   \n1       Glenwood Ave & Touhy Ave              525   \n2  Sheffield Ave & Fullerton Ave     TA1306000016   \n3       Clark St & Bryn Mawr Ave     KA1504000151   \n4    Michigan Ave & Jackson Blvd     TA1309000002   \n\n                end_station_name end_station_id  start_lat  start_lng  \\\n0           Clark St & Touhy Ave         RP-007  42.012800 -87.665906   \n1           Clark St & Touhy Ave         RP-007  42.012763 -87.665967   \n2  Greenview Ave & Fullerton Ave   TA1307000001  41.925602 -87.653708   \n3      Paulina St & Montrose Ave   TA1309000021  41.983593 -87.669154   \n4         State St & Randolph St   TA1305000029  41.877850 -87.624080   \n\n     end_lat    end_lng member_casual  \n0  42.012560 -87.674367        casual  \n1  42.012560 -87.674367        casual  \n2  41.925330 -87.665800        member  \n3  41.961507 -87.671387        casual  \n4  41.884621 -87.627834        member  ",
      "text/html": "<div>\n<style scoped>\n    .dataframe tbody tr th:only-of-type {\n        vertical-align: middle;\n    }\n\n    .dataframe tbody tr th {\n        vertical-align: top;\n    }\n\n    .dataframe thead th {\n        text-align: right;\n    }\n</style>\n<table border=\"1\" class=\"dataframe\">\n  <thead>\n    <tr style=\"text-align: right;\">\n      <th></th>\n      <th>ride_id</th>\n      <th>rideable_type</th>\n      <th>started_at</th>\n      <th>ended_at</th>\n      <th>start_station_name</th>\n      <th>start_station_id</th>\n      <th>end_station_name</th>\n      <th>end_station_id</th>\n      <th>start_lat</th>\n      <th>start_lng</th>\n      <th>end_lat</th>\n      <th>end_lng</th>\n      <th>member_casual</th>\n    </tr>\n  </thead>\n  <tbody>\n    <tr>\n      <th>0</th>\n      <td>C2F7DD78E82EC875</td>\n      <td>electric_bike</td>\n      <td>2022-01-13 11:59:47</td>\n      <td>2022-01-13 12:02:44</td>\n      <td>Glenwood Ave &amp; Touhy Ave</td>\n      <td>525</td>\n      <td>Clark St &amp; Touhy Ave</td>\n      <td>RP-007</td>\n      <td>42.012800</td>\n      <td>-87.665906</td>\n      <td>42.012560</td>\n      <td>-87.674367</td>\n      <td>casual</td>\n    </tr>\n    <tr>\n      <th>1</th>\n      <td>A6CF8980A652D272</td>\n      <td>electric_bike</td>\n      <td>2022-01-10 08:41:56</td>\n      <td>2022-01-10 08:46:17</td>\n      <td>Glenwood Ave &amp; Touhy Ave</td>\n      <td>525</td>\n      <td>Clark St &amp; Touhy Ave</td>\n      <td>RP-007</td>\n      <td>42.012763</td>\n      <td>-87.665967</td>\n      <td>42.012560</td>\n      <td>-87.674367</td>\n      <td>casual</td>\n    </tr>\n    <tr>\n      <th>2</th>\n      <td>BD0F91DFF741C66D</td>\n      <td>classic_bike</td>\n      <td>2022-01-25 04:53:40</td>\n      <td>2022-01-25 04:58:01</td>\n      <td>Sheffield Ave &amp; Fullerton Ave</td>\n      <td>TA1306000016</td>\n      <td>Greenview Ave &amp; Fullerton Ave</td>\n      <td>TA1307000001</td>\n      <td>41.925602</td>\n      <td>-87.653708</td>\n      <td>41.925330</td>\n      <td>-87.665800</td>\n      <td>member</td>\n    </tr>\n    <tr>\n      <th>3</th>\n      <td>CBB80ED419105406</td>\n      <td>classic_bike</td>\n      <td>2022-01-04 00:18:04</td>\n      <td>2022-01-04 00:33:00</td>\n      <td>Clark St &amp; Bryn Mawr Ave</td>\n      <td>KA1504000151</td>\n      <td>Paulina St &amp; Montrose Ave</td>\n      <td>TA1309000021</td>\n      <td>41.983593</td>\n      <td>-87.669154</td>\n      <td>41.961507</td>\n      <td>-87.671387</td>\n      <td>casual</td>\n    </tr>\n    <tr>\n      <th>4</th>\n      <td>DDC963BFDDA51EEA</td>\n      <td>classic_bike</td>\n      <td>2022-01-20 01:31:10</td>\n      <td>2022-01-20 01:37:12</td>\n      <td>Michigan Ave &amp; Jackson Blvd</td>\n      <td>TA1309000002</td>\n      <td>State St &amp; Randolph St</td>\n      <td>TA1305000029</td>\n      <td>41.877850</td>\n      <td>-87.624080</td>\n      <td>41.884621</td>\n      <td>-87.627834</td>\n      <td>member</td>\n    </tr>\n  </tbody>\n</table>\n</div>"
     },
     "execution_count": 4,
     "metadata": {},
     "output_type": "execute_result"
    }
   ],
   "source": [
    "data.head()"
   ],
   "metadata": {
    "collapsed": false,
    "pycharm": {
     "name": "#%%\n"
    }
   }
  },
  {
   "cell_type": "code",
   "execution_count": 5,
   "outputs": [
    {
     "name": "stdout",
     "output_type": "stream",
     "text": [
      "<class 'pandas.core.frame.DataFrame'>\n",
      "RangeIndex: 103770 entries, 0 to 103769\n",
      "Data columns (total 13 columns):\n",
      " #   Column              Non-Null Count   Dtype  \n",
      "---  ------              --------------   -----  \n",
      " 0   ride_id             103770 non-null  object \n",
      " 1   rideable_type       103770 non-null  object \n",
      " 2   started_at          103770 non-null  object \n",
      " 3   ended_at            103770 non-null  object \n",
      " 4   start_station_name  87510 non-null   object \n",
      " 5   start_station_id    87510 non-null   object \n",
      " 6   end_station_name    85843 non-null   object \n",
      " 7   end_station_id      85843 non-null   object \n",
      " 8   start_lat           103770 non-null  float64\n",
      " 9   start_lng           103770 non-null  float64\n",
      " 10  end_lat             103684 non-null  float64\n",
      " 11  end_lng             103684 non-null  float64\n",
      " 12  member_casual       103770 non-null  object \n",
      "dtypes: float64(4), object(9)\n",
      "memory usage: 10.3+ MB\n"
     ]
    }
   ],
   "source": [
    "    data.info()"
   ],
   "metadata": {
    "collapsed": false,
    "pycharm": {
     "name": "#%%\n"
    }
   }
  },
  {
   "cell_type": "code",
   "execution_count": 6,
   "outputs": [
    {
     "data": {
      "text/plain": "(103770, 13)"
     },
     "execution_count": 6,
     "metadata": {},
     "output_type": "execute_result"
    }
   ],
   "source": [
    "data.shape"
   ],
   "metadata": {
    "collapsed": false,
    "pycharm": {
     "name": "#%%\n"
    }
   }
  },
  {
   "cell_type": "code",
   "execution_count": 7,
   "outputs": [
    {
     "data": {
      "text/plain": "ride_id                   0\nrideable_type             0\nstarted_at                0\nended_at                  0\nstart_station_name    16260\nstart_station_id      16260\nend_station_name      17927\nend_station_id        17927\nstart_lat                 0\nstart_lng                 0\nend_lat                  86\nend_lng                  86\nmember_casual             0\ndtype: int64"
     },
     "execution_count": 7,
     "metadata": {},
     "output_type": "execute_result"
    }
   ],
   "source": [
    "data.isnull().sum()"
   ],
   "metadata": {
    "collapsed": false,
    "pycharm": {
     "name": "#%%\n"
    }
   }
  },
  {
   "cell_type": "code",
   "execution_count": 8,
   "outputs": [
    {
     "data": {
      "text/plain": "           start_lat      start_lng        end_lat        end_lng\ncount  103770.000000  103770.000000  103684.000000  103684.000000\nmean       41.896850     -87.648622      41.896950     -87.648964\nstd         0.049664       0.053199       0.048400       0.031342\nmin        41.650000     -87.830000      41.648501     -87.830000\n25%        41.879255     -87.664169      41.879344     -87.664358\n50%        41.894877     -87.644098      41.895501     -87.644098\n75%        41.925602     -87.629912      41.925602     -87.629912\nmax        45.635034     -73.796477      42.070000     -87.520000",
      "text/html": "<div>\n<style scoped>\n    .dataframe tbody tr th:only-of-type {\n        vertical-align: middle;\n    }\n\n    .dataframe tbody tr th {\n        vertical-align: top;\n    }\n\n    .dataframe thead th {\n        text-align: right;\n    }\n</style>\n<table border=\"1\" class=\"dataframe\">\n  <thead>\n    <tr style=\"text-align: right;\">\n      <th></th>\n      <th>start_lat</th>\n      <th>start_lng</th>\n      <th>end_lat</th>\n      <th>end_lng</th>\n    </tr>\n  </thead>\n  <tbody>\n    <tr>\n      <th>count</th>\n      <td>103770.000000</td>\n      <td>103770.000000</td>\n      <td>103684.000000</td>\n      <td>103684.000000</td>\n    </tr>\n    <tr>\n      <th>mean</th>\n      <td>41.896850</td>\n      <td>-87.648622</td>\n      <td>41.896950</td>\n      <td>-87.648964</td>\n    </tr>\n    <tr>\n      <th>std</th>\n      <td>0.049664</td>\n      <td>0.053199</td>\n      <td>0.048400</td>\n      <td>0.031342</td>\n    </tr>\n    <tr>\n      <th>min</th>\n      <td>41.650000</td>\n      <td>-87.830000</td>\n      <td>41.648501</td>\n      <td>-87.830000</td>\n    </tr>\n    <tr>\n      <th>25%</th>\n      <td>41.879255</td>\n      <td>-87.664169</td>\n      <td>41.879344</td>\n      <td>-87.664358</td>\n    </tr>\n    <tr>\n      <th>50%</th>\n      <td>41.894877</td>\n      <td>-87.644098</td>\n      <td>41.895501</td>\n      <td>-87.644098</td>\n    </tr>\n    <tr>\n      <th>75%</th>\n      <td>41.925602</td>\n      <td>-87.629912</td>\n      <td>41.925602</td>\n      <td>-87.629912</td>\n    </tr>\n    <tr>\n      <th>max</th>\n      <td>45.635034</td>\n      <td>-73.796477</td>\n      <td>42.070000</td>\n      <td>-87.520000</td>\n    </tr>\n  </tbody>\n</table>\n</div>"
     },
     "execution_count": 8,
     "metadata": {},
     "output_type": "execute_result"
    }
   ],
   "source": [
    "data.describe()"
   ],
   "metadata": {
    "collapsed": false,
    "pycharm": {
     "name": "#%%\n"
    }
   }
  },
  {
   "cell_type": "code",
   "execution_count": 9,
   "outputs": [
    {
     "data": {
      "text/plain": "Index(['ride_id', 'rideable_type', 'started_at', 'ended_at',\n       'start_station_name', 'start_station_id', 'end_station_name',\n       'end_station_id', 'start_lat', 'start_lng', 'end_lat', 'end_lng',\n       'member_casual'],\n      dtype='object')"
     },
     "execution_count": 9,
     "metadata": {},
     "output_type": "execute_result"
    }
   ],
   "source": [
    "data.columns"
   ],
   "metadata": {
    "collapsed": false,
    "pycharm": {
     "name": "#%%\n"
    }
   }
  },
  {
   "cell_type": "code",
   "execution_count": 10,
   "outputs": [],
   "source": [
    "#Converting the data type of the 'started_at', 'ended_at' columns from object to datetime data type\n",
    "data['started_at'] = pd.to_datetime(data['started_at'])\n",
    "data['ended_at'] = pd.to_datetime(data['ended_at'])"
   ],
   "metadata": {
    "collapsed": false,
    "pycharm": {
     "name": "#%%\n"
    }
   }
  },
  {
   "cell_type": "code",
   "execution_count": 11,
   "outputs": [
    {
     "name": "stdout",
     "output_type": "stream",
     "text": [
      "<class 'pandas.core.frame.DataFrame'>\n",
      "RangeIndex: 103770 entries, 0 to 103769\n",
      "Data columns (total 13 columns):\n",
      " #   Column              Non-Null Count   Dtype         \n",
      "---  ------              --------------   -----         \n",
      " 0   ride_id             103770 non-null  object        \n",
      " 1   rideable_type       103770 non-null  object        \n",
      " 2   started_at          103770 non-null  datetime64[ns]\n",
      " 3   ended_at            103770 non-null  datetime64[ns]\n",
      " 4   start_station_name  87510 non-null   object        \n",
      " 5   start_station_id    87510 non-null   object        \n",
      " 6   end_station_name    85843 non-null   object        \n",
      " 7   end_station_id      85843 non-null   object        \n",
      " 8   start_lat           103770 non-null  float64       \n",
      " 9   start_lng           103770 non-null  float64       \n",
      " 10  end_lat             103684 non-null  float64       \n",
      " 11  end_lng             103684 non-null  float64       \n",
      " 12  member_casual       103770 non-null  object        \n",
      "dtypes: datetime64[ns](2), float64(4), object(7)\n",
      "memory usage: 10.3+ MB\n"
     ]
    }
   ],
   "source": [
    "data.info()"
   ],
   "metadata": {
    "collapsed": false,
    "pycharm": {
     "name": "#%%\n"
    }
   }
  },
  {
   "cell_type": "code",
   "execution_count": 12,
   "outputs": [],
   "source": [
    "data['ride_length'] = data['ended_at'] - data['started_at']"
   ],
   "metadata": {
    "collapsed": false,
    "pycharm": {
     "name": "#%%\n"
    }
   }
  },
  {
   "cell_type": "code",
   "execution_count": 13,
   "outputs": [
    {
     "data": {
      "text/plain": "            ride_id  rideable_type          started_at            ended_at  \\\n0  C2F7DD78E82EC875  electric_bike 2022-01-13 11:59:47 2022-01-13 12:02:44   \n1  A6CF8980A652D272  electric_bike 2022-01-10 08:41:56 2022-01-10 08:46:17   \n2  BD0F91DFF741C66D   classic_bike 2022-01-25 04:53:40 2022-01-25 04:58:01   \n3  CBB80ED419105406   classic_bike 2022-01-04 00:18:04 2022-01-04 00:33:00   \n4  DDC963BFDDA51EEA   classic_bike 2022-01-20 01:31:10 2022-01-20 01:37:12   \n\n              start_station_name start_station_id  \\\n0       Glenwood Ave & Touhy Ave              525   \n1       Glenwood Ave & Touhy Ave              525   \n2  Sheffield Ave & Fullerton Ave     TA1306000016   \n3       Clark St & Bryn Mawr Ave     KA1504000151   \n4    Michigan Ave & Jackson Blvd     TA1309000002   \n\n                end_station_name end_station_id  start_lat  start_lng  \\\n0           Clark St & Touhy Ave         RP-007  42.012800 -87.665906   \n1           Clark St & Touhy Ave         RP-007  42.012763 -87.665967   \n2  Greenview Ave & Fullerton Ave   TA1307000001  41.925602 -87.653708   \n3      Paulina St & Montrose Ave   TA1309000021  41.983593 -87.669154   \n4         State St & Randolph St   TA1305000029  41.877850 -87.624080   \n\n     end_lat    end_lng member_casual     ride_length  \n0  42.012560 -87.674367        casual 0 days 00:02:57  \n1  42.012560 -87.674367        casual 0 days 00:04:21  \n2  41.925330 -87.665800        member 0 days 00:04:21  \n3  41.961507 -87.671387        casual 0 days 00:14:56  \n4  41.884621 -87.627834        member 0 days 00:06:02  ",
      "text/html": "<div>\n<style scoped>\n    .dataframe tbody tr th:only-of-type {\n        vertical-align: middle;\n    }\n\n    .dataframe tbody tr th {\n        vertical-align: top;\n    }\n\n    .dataframe thead th {\n        text-align: right;\n    }\n</style>\n<table border=\"1\" class=\"dataframe\">\n  <thead>\n    <tr style=\"text-align: right;\">\n      <th></th>\n      <th>ride_id</th>\n      <th>rideable_type</th>\n      <th>started_at</th>\n      <th>ended_at</th>\n      <th>start_station_name</th>\n      <th>start_station_id</th>\n      <th>end_station_name</th>\n      <th>end_station_id</th>\n      <th>start_lat</th>\n      <th>start_lng</th>\n      <th>end_lat</th>\n      <th>end_lng</th>\n      <th>member_casual</th>\n      <th>ride_length</th>\n    </tr>\n  </thead>\n  <tbody>\n    <tr>\n      <th>0</th>\n      <td>C2F7DD78E82EC875</td>\n      <td>electric_bike</td>\n      <td>2022-01-13 11:59:47</td>\n      <td>2022-01-13 12:02:44</td>\n      <td>Glenwood Ave &amp; Touhy Ave</td>\n      <td>525</td>\n      <td>Clark St &amp; Touhy Ave</td>\n      <td>RP-007</td>\n      <td>42.012800</td>\n      <td>-87.665906</td>\n      <td>42.012560</td>\n      <td>-87.674367</td>\n      <td>casual</td>\n      <td>0 days 00:02:57</td>\n    </tr>\n    <tr>\n      <th>1</th>\n      <td>A6CF8980A652D272</td>\n      <td>electric_bike</td>\n      <td>2022-01-10 08:41:56</td>\n      <td>2022-01-10 08:46:17</td>\n      <td>Glenwood Ave &amp; Touhy Ave</td>\n      <td>525</td>\n      <td>Clark St &amp; Touhy Ave</td>\n      <td>RP-007</td>\n      <td>42.012763</td>\n      <td>-87.665967</td>\n      <td>42.012560</td>\n      <td>-87.674367</td>\n      <td>casual</td>\n      <td>0 days 00:04:21</td>\n    </tr>\n    <tr>\n      <th>2</th>\n      <td>BD0F91DFF741C66D</td>\n      <td>classic_bike</td>\n      <td>2022-01-25 04:53:40</td>\n      <td>2022-01-25 04:58:01</td>\n      <td>Sheffield Ave &amp; Fullerton Ave</td>\n      <td>TA1306000016</td>\n      <td>Greenview Ave &amp; Fullerton Ave</td>\n      <td>TA1307000001</td>\n      <td>41.925602</td>\n      <td>-87.653708</td>\n      <td>41.925330</td>\n      <td>-87.665800</td>\n      <td>member</td>\n      <td>0 days 00:04:21</td>\n    </tr>\n    <tr>\n      <th>3</th>\n      <td>CBB80ED419105406</td>\n      <td>classic_bike</td>\n      <td>2022-01-04 00:18:04</td>\n      <td>2022-01-04 00:33:00</td>\n      <td>Clark St &amp; Bryn Mawr Ave</td>\n      <td>KA1504000151</td>\n      <td>Paulina St &amp; Montrose Ave</td>\n      <td>TA1309000021</td>\n      <td>41.983593</td>\n      <td>-87.669154</td>\n      <td>41.961507</td>\n      <td>-87.671387</td>\n      <td>casual</td>\n      <td>0 days 00:14:56</td>\n    </tr>\n    <tr>\n      <th>4</th>\n      <td>DDC963BFDDA51EEA</td>\n      <td>classic_bike</td>\n      <td>2022-01-20 01:31:10</td>\n      <td>2022-01-20 01:37:12</td>\n      <td>Michigan Ave &amp; Jackson Blvd</td>\n      <td>TA1309000002</td>\n      <td>State St &amp; Randolph St</td>\n      <td>TA1305000029</td>\n      <td>41.877850</td>\n      <td>-87.624080</td>\n      <td>41.884621</td>\n      <td>-87.627834</td>\n      <td>member</td>\n      <td>0 days 00:06:02</td>\n    </tr>\n  </tbody>\n</table>\n</div>"
     },
     "execution_count": 13,
     "metadata": {},
     "output_type": "execute_result"
    }
   ],
   "source": [
    "data.head()"
   ],
   "metadata": {
    "collapsed": false,
    "pycharm": {
     "name": "#%%\n"
    }
   }
  },
  {
   "cell_type": "code",
   "execution_count": 14,
   "outputs": [
    {
     "data": {
      "text/plain": "ride_id                   0\nrideable_type             0\nstarted_at                0\nended_at                  0\nstart_station_name    16260\nstart_station_id      16260\nend_station_name      17927\nend_station_id        17927\nstart_lat                 0\nstart_lng                 0\nend_lat                  86\nend_lng                  86\nmember_casual             0\nride_length               0\ndtype: int64"
     },
     "execution_count": 14,
     "metadata": {},
     "output_type": "execute_result"
    }
   ],
   "source": [
    "data.isnull().sum()"
   ],
   "metadata": {
    "collapsed": false,
    "pycharm": {
     "name": "#%%\n"
    }
   }
  },
  {
   "cell_type": "code",
   "execution_count": 15,
   "outputs": [],
   "source": [
    "data['day_of_week'] = data.started_at.dt.day_name()"
   ],
   "metadata": {
    "collapsed": false,
    "pycharm": {
     "name": "#%%\n"
    }
   }
  },
  {
   "cell_type": "code",
   "source": [
    "data['day_of_week'].unique()"
   ],
   "metadata": {
    "collapsed": false,
    "pycharm": {
     "name": "#%%\n"
    }
   },
   "execution_count": 16,
   "outputs": [
    {
     "data": {
      "text/plain": "array(['Thursday', 'Monday', 'Tuesday', 'Sunday', 'Saturday', 'Friday',\n       'Wednesday'], dtype=object)"
     },
     "execution_count": 16,
     "metadata": {},
     "output_type": "execute_result"
    }
   ]
  },
  {
   "cell_type": "code",
   "execution_count": 17,
   "outputs": [
    {
     "name": "stdout",
     "output_type": "stream",
     "text": [
      "<class 'pandas.core.frame.DataFrame'>\n",
      "RangeIndex: 103770 entries, 0 to 103769\n",
      "Data columns (total 15 columns):\n",
      " #   Column              Non-Null Count   Dtype          \n",
      "---  ------              --------------   -----          \n",
      " 0   ride_id             103770 non-null  object         \n",
      " 1   rideable_type       103770 non-null  object         \n",
      " 2   started_at          103770 non-null  datetime64[ns] \n",
      " 3   ended_at            103770 non-null  datetime64[ns] \n",
      " 4   start_station_name  87510 non-null   object         \n",
      " 5   start_station_id    87510 non-null   object         \n",
      " 6   end_station_name    85843 non-null   object         \n",
      " 7   end_station_id      85843 non-null   object         \n",
      " 8   start_lat           103770 non-null  float64        \n",
      " 9   start_lng           103770 non-null  float64        \n",
      " 10  end_lat             103684 non-null  float64        \n",
      " 11  end_lng             103684 non-null  float64        \n",
      " 12  member_casual       103770 non-null  object         \n",
      " 13  ride_length         103770 non-null  timedelta64[ns]\n",
      " 14  day_of_week         103770 non-null  object         \n",
      "dtypes: datetime64[ns](2), float64(4), object(8), timedelta64[ns](1)\n",
      "memory usage: 11.9+ MB\n"
     ]
    }
   ],
   "source": [
    "data.info()"
   ],
   "metadata": {
    "collapsed": false,
    "pycharm": {
     "name": "#%%\n"
    }
   }
  },
  {
   "cell_type": "code",
   "execution_count": 18,
   "outputs": [
    {
     "data": {
      "text/plain": "ride_id                   0\nrideable_type             0\nstarted_at                0\nended_at                  0\nstart_station_name    16260\nstart_station_id      16260\nend_station_name      17927\nend_station_id        17927\nstart_lat                 0\nstart_lng                 0\nend_lat                  86\nend_lng                  86\nmember_casual             0\nride_length               0\nday_of_week               0\ndtype: int64"
     },
     "execution_count": 18,
     "metadata": {},
     "output_type": "execute_result"
    }
   ],
   "source": [
    "data.isnull().sum()"
   ],
   "metadata": {
    "collapsed": false,
    "pycharm": {
     "name": "#%%\n"
    }
   }
  },
  {
   "cell_type": "code",
   "execution_count": 19,
   "outputs": [],
   "source": [
    "#Dropping Missing Values.\n",
    "df = data.dropna(axis=0)"
   ],
   "metadata": {
    "collapsed": false,
    "pycharm": {
     "name": "#%%\n"
    }
   }
  },
  {
   "cell_type": "code",
   "execution_count": 20,
   "outputs": [
    {
     "data": {
      "text/plain": "ride_id               0\nrideable_type         0\nstarted_at            0\nended_at              0\nstart_station_name    0\nstart_station_id      0\nend_station_name      0\nend_station_id        0\nstart_lat             0\nstart_lng             0\nend_lat               0\nend_lng               0\nmember_casual         0\nride_length           0\nday_of_week           0\ndtype: int64"
     },
     "execution_count": 20,
     "metadata": {},
     "output_type": "execute_result"
    }
   ],
   "source": [
    "df.isnull().sum()"
   ],
   "metadata": {
    "collapsed": false,
    "pycharm": {
     "name": "#%%\n"
    }
   }
  },
  {
   "cell_type": "markdown",
   "source": [
    "# Univariate Analysis"
   ],
   "metadata": {
    "collapsed": false,
    "pycharm": {
     "name": "#%% md\n"
    }
   }
  },
  {
   "cell_type": "code",
   "execution_count": 21,
   "outputs": [
    {
     "data": {
      "text/plain": "{datetime64[ns]: ['started_at', 'ended_at'], float64: ['start_lat', 'start_lng', 'end_lat', 'end_lng'], timedelta64[ns]: ['ride_length'], object: ['ride_id', 'rideable_type', 'start_station_name', 'start_station_id', 'end_station_name', 'end_station_id', 'member_casual', 'day_of_week']}"
     },
     "execution_count": 21,
     "metadata": {},
     "output_type": "execute_result"
    }
   ],
   "source": [
    "#grouping the columns by their data types.\n",
    "df.columns.to_series().groupby(data.dtypes).groups"
   ],
   "metadata": {
    "collapsed": false,
    "pycharm": {
     "name": "#%%\n"
    }
   }
  },
  {
   "cell_type": "code",
   "execution_count": 22,
   "outputs": [
    {
     "data": {
      "text/plain": "<AxesSubplot:title={'center':'Day Of Week'}>"
     },
     "execution_count": 22,
     "metadata": {},
     "output_type": "execute_result"
    },
    {
     "data": {
      "text/plain": "<Figure size 1440x360 with 3 Axes>",
      "image/png": "[encoded data removed]"
     },
     "metadata": {
      "needs_background": "light"
     },
     "output_type": "display_data"
    }
   ],
   "source": [
    "#Exploring categorical columns with object datatype\n",
    "plt.subplot(1,3,1)\n",
    "df['rideable_type'].value_counts(normalize=True).plot.bar(figsize=(20,5), title='Ride Type')\n",
    "plt.subplot(1,3,2)\n",
    "df['member_casual'].value_counts(normalize=True).plot.bar(figsize=(20,5), title='Menbership Type')\n",
    "plt.subplot(1,3,3)\n",
    "df['day_of_week'].value_counts(normalize=True).plot.bar(figsize=(20,5), title='Day Of Week')"
   ],
   "metadata": {
    "collapsed": false,
    "pycharm": {
     "name": "#%%\n"
    }
   }
  },
  {
   "cell_type": "code",
   "execution_count": 23,
   "outputs": [
    {
     "data": {
      "text/plain": "(80128, 15)"
     },
     "execution_count": 23,
     "metadata": {},
     "output_type": "execute_result"
    }
   ],
   "source": [
    "df.shape"
   ],
   "metadata": {
    "collapsed": false,
    "pycharm": {
     "name": "#%%\n"
    }
   }
  },
  {
   "cell_type": "markdown",
   "source": [
    "# Bivariate Analysis"
   ],
   "metadata": {
    "collapsed": false,
    "pycharm": {
     "name": "#%% md\n"
    }
   }
  },
  {
   "cell_type": "code",
   "execution_count": 24,
   "outputs": [
    {
     "data": {
      "text/plain": "                 ride_id  rideable_type          started_at  \\\n0       C2F7DD78E82EC875  electric_bike 2022-01-13 11:59:47   \n1       A6CF8980A652D272  electric_bike 2022-01-10 08:41:56   \n2       BD0F91DFF741C66D   classic_bike 2022-01-25 04:53:40   \n3       CBB80ED419105406   classic_bike 2022-01-04 00:18:04   \n4       DDC963BFDDA51EEA   classic_bike 2022-01-20 01:31:10   \n...                  ...            ...                 ...   \n103716  B7FDA1D0A96177A3   classic_bike 2022-01-17 11:21:44   \n103760  222422C4575505E3  electric_bike 2022-01-13 09:49:02   \n103763  F62C4E58DB8DC100  electric_bike 2022-01-19 16:40:42   \n103767  CA281AE7D8B06F5A  electric_bike 2022-01-10 16:14:51   \n103769  E477C594A182AE58  electric_bike 2022-01-13 17:24:43   \n\n                  ended_at             start_station_name start_station_id  \\\n0      2022-01-13 12:02:44       Glenwood Ave & Touhy Ave              525   \n1      2022-01-10 08:46:17       Glenwood Ave & Touhy Ave              525   \n2      2022-01-25 04:58:01  Sheffield Ave & Fullerton Ave     TA1306000016   \n3      2022-01-04 00:33:00       Clark St & Bryn Mawr Ave     KA1504000151   \n4      2022-01-20 01:37:12    Michigan Ave & Jackson Blvd     TA1309000002   \n...                    ...                            ...              ...   \n103716 2022-01-17 11:28:02           Wells St & Walton St     TA1306000011   \n103760 2022-01-13 10:02:22   Milwaukee Ave & Wabansia Ave            13243   \n103763 2022-01-19 16:44:57        Broadway & Waveland Ave            13325   \n103767 2022-01-10 16:20:58        Broadway & Waveland Ave            13325   \n103769 2022-01-13 17:28:14   Clinton St & Washington Blvd           WL-012   \n\n                     end_station_name end_station_id  start_lat  start_lng  \\\n0                Clark St & Touhy Ave         RP-007  42.012800 -87.665906   \n1                Clark St & Touhy Ave         RP-007  42.012763 -87.665967   \n2       Greenview Ave & Fullerton Ave   TA1307000001  41.925602 -87.653708   \n3           Paulina St & Montrose Ave   TA1309000021  41.983593 -87.669154   \n4              State St & Randolph St   TA1305000029  41.877850 -87.624080   \n...                               ...            ...        ...        ...   \n103716       Kingsbury St & Kinzie St   KA1503000043  41.899930 -87.634430   \n103760       Kingsbury St & Kinzie St   KA1503000043  41.912670 -87.681550   \n103763            Clark St & Grace St   TA1307000127  41.949079 -87.648614   \n103767            Clark St & Grace St   TA1307000127  41.949066 -87.648611   \n103769      Desplaines St & Kinzie St   TA1306000003  41.883248 -87.641244   \n\n          end_lat    end_lng member_casual     ride_length day_of_week  \n0       42.012560 -87.674367        casual 0 days 00:02:57    Thursday  \n1       42.012560 -87.674367        casual 0 days 00:04:21      Monday  \n2       41.925330 -87.665800        member 0 days 00:04:21     Tuesday  \n3       41.961507 -87.671387        casual 0 days 00:14:56     Tuesday  \n4       41.884621 -87.627834        member 0 days 00:06:02    Thursday  \n...           ...        ...           ...             ...         ...  \n103716  41.889177 -87.638506        member 0 days 00:06:18      Monday  \n103760  41.889177 -87.638506        member 0 days 00:13:20    Thursday  \n103763  41.950780 -87.659172        casual 0 days 00:04:15   Wednesday  \n103767  41.950780 -87.659172        casual 0 days 00:06:07      Monday  \n103769  41.888716 -87.644448        casual 0 days 00:03:31    Thursday  \n\n[80128 rows x 15 columns]",
      "text/html": "<div>\n<style scoped>\n    .dataframe tbody tr th:only-of-type {\n        vertical-align: middle;\n    }\n\n    .dataframe tbody tr th {\n        vertical-align: top;\n    }\n\n    .dataframe thead th {\n        text-align: right;\n    }\n</style>\n<table border=\"1\" class=\"dataframe\">\n  <thead>\n    <tr style=\"text-align: right;\">\n      <th></th>\n      <th>ride_id</th>\n      <th>rideable_type</th>\n      <th>started_at</th>\n      <th>ended_at</th>\n      <th>start_station_name</th>\n      <th>start_station_id</th>\n      <th>end_station_name</th>\n      <th>end_station_id</th>\n      <th>start_lat</th>\n      <th>start_lng</th>\n      <th>end_lat</th>\n      <th>end_lng</th>\n      <th>member_casual</th>\n      <th>ride_length</th>\n      <th>day_of_week</th>\n    </tr>\n  </thead>\n  <tbody>\n    <tr>\n      <th>0</th>\n      <td>C2F7DD78E82EC875</td>\n      <td>electric_bike</td>\n      <td>2022-01-13 11:59:47</td>\n      <td>2022-01-13 12:02:44</td>\n      <td>Glenwood Ave &amp; Touhy Ave</td>\n      <td>525</td>\n      <td>Clark St &amp; Touhy Ave</td>\n      <td>RP-007</td>\n      <td>42.012800</td>\n      <td>-87.665906</td>\n      <td>42.012560</td>\n      <td>-87.674367</td>\n      <td>casual</td>\n      <td>0 days 00:02:57</td>\n      <td>Thursday</td>\n    </tr>\n    <tr>\n      <th>1</th>\n      <td>A6CF8980A652D272</td>\n      <td>electric_bike</td>\n      <td>2022-01-10 08:41:56</td>\n      <td>2022-01-10 08:46:17</td>\n      <td>Glenwood Ave &amp; Touhy Ave</td>\n      <td>525</td>\n      <td>Clark St &amp; Touhy Ave</td>\n      <td>RP-007</td>\n      <td>42.012763</td>\n      <td>-87.665967</td>\n      <td>42.012560</td>\n      <td>-87.674367</td>\n      <td>casual</td>\n      <td>0 days 00:04:21</td>\n      <td>Monday</td>\n    </tr>\n    <tr>\n      <th>2</th>\n      <td>BD0F91DFF741C66D</td>\n      <td>classic_bike</td>\n      <td>2022-01-25 04:53:40</td>\n      <td>2022-01-25 04:58:01</td>\n      <td>Sheffield Ave &amp; Fullerton Ave</td>\n      <td>TA1306000016</td>\n      <td>Greenview Ave &amp; Fullerton Ave</td>\n      <td>TA1307000001</td>\n      <td>41.925602</td>\n      <td>-87.653708</td>\n      <td>41.925330</td>\n      <td>-87.665800</td>\n      <td>member</td>\n      <td>0 days 00:04:21</td>\n      <td>Tuesday</td>\n    </tr>\n    <tr>\n      <th>3</th>\n      <td>CBB80ED419105406</td>\n      <td>classic_bike</td>\n      <td>2022-01-04 00:18:04</td>\n      <td>2022-01-04 00:33:00</td>\n      <td>Clark St &amp; Bryn Mawr Ave</td>\n      <td>KA1504000151</td>\n      <td>Paulina St &amp; Montrose Ave</td>\n      <td>TA1309000021</td>\n      <td>41.983593</td>\n      <td>-87.669154</td>\n      <td>41.961507</td>\n      <td>-87.671387</td>\n      <td>casual</td>\n      <td>0 days 00:14:56</td>\n      <td>Tuesday</td>\n    </tr>\n    <tr>\n      <th>4</th>\n      <td>DDC963BFDDA51EEA</td>\n      <td>classic_bike</td>\n      <td>2022-01-20 01:31:10</td>\n      <td>2022-01-20 01:37:12</td>\n      <td>Michigan Ave &amp; Jackson Blvd</td>\n      <td>TA1309000002</td>\n      <td>State St &amp; Randolph St</td>\n      <td>TA1305000029</td>\n      <td>41.877850</td>\n      <td>-87.624080</td>\n      <td>41.884621</td>\n      <td>-87.627834</td>\n      <td>member</td>\n      <td>0 days 00:06:02</td>\n      <td>Thursday</td>\n    </tr>\n    <tr>\n      <th>...</th>\n      <td>...</td>\n      <td>...</td>\n      <td>...</td>\n      <td>...</td>\n      <td>...</td>\n      <td>...</td>\n      <td>...</td>\n      <td>...</td>\n      <td>...</td>\n      <td>...</td>\n      <td>...</td>\n      <td>...</td>\n      <td>...</td>\n      <td>...</td>\n      <td>...</td>\n    </tr>\n    <tr>\n      <th>103716</th>\n      <td>B7FDA1D0A96177A3</td>\n      <td>classic_bike</td>\n      <td>2022-01-17 11:21:44</td>\n      <td>2022-01-17 11:28:02</td>\n      <td>Wells St &amp; Walton St</td>\n      <td>TA1306000011</td>\n      <td>Kingsbury St &amp; Kinzie St</td>\n      <td>KA1503000043</td>\n      <td>41.899930</td>\n      <td>-87.634430</td>\n      <td>41.889177</td>\n      <td>-87.638506</td>\n      <td>member</td>\n      <td>0 days 00:06:18</td>\n      <td>Monday</td>\n    </tr>\n    <tr>\n      <th>103760</th>\n      <td>222422C4575505E3</td>\n      <td>electric_bike</td>\n      <td>2022-01-13 09:49:02</td>\n      <td>2022-01-13 10:02:22</td>\n      <td>Milwaukee Ave &amp; Wabansia Ave</td>\n      <td>13243</td>\n      <td>Kingsbury St &amp; Kinzie St</td>\n      <td>KA1503000043</td>\n      <td>41.912670</td>\n      <td>-87.681550</td>\n      <td>41.889177</td>\n      <td>-87.638506</td>\n      <td>member</td>\n      <td>0 days 00:13:20</td>\n      <td>Thursday</td>\n    </tr>\n    <tr>\n      <th>103763</th>\n      <td>F62C4E58DB8DC100</td>\n      <td>electric_bike</td>\n      <td>2022-01-19 16:40:42</td>\n      <td>2022-01-19 16:44:57</td>\n      <td>Broadway &amp; Waveland Ave</td>\n      <td>13325</td>\n      <td>Clark St &amp; Grace St</td>\n      <td>TA1307000127</td>\n      <td>41.949079</td>\n      <td>-87.648614</td>\n      <td>41.950780</td>\n      <td>-87.659172</td>\n      <td>casual</td>\n      <td>0 days 00:04:15</td>\n      <td>Wednesday</td>\n    </tr>\n    <tr>\n      <th>103767</th>\n      <td>CA281AE7D8B06F5A</td>\n      <td>electric_bike</td>\n      <td>2022-01-10 16:14:51</td>\n      <td>2022-01-10 16:20:58</td>\n      <td>Broadway &amp; Waveland Ave</td>\n      <td>13325</td>\n      <td>Clark St &amp; Grace St</td>\n      <td>TA1307000127</td>\n      <td>41.949066</td>\n      <td>-87.648611</td>\n      <td>41.950780</td>\n      <td>-87.659172</td>\n      <td>casual</td>\n      <td>0 days 00:06:07</td>\n      <td>Monday</td>\n    </tr>\n    <tr>\n      <th>103769</th>\n      <td>E477C594A182AE58</td>\n      <td>electric_bike</td>\n      <td>2022-01-13 17:24:43</td>\n      <td>2022-01-13 17:28:14</td>\n      <td>Clinton St &amp; Washington Blvd</td>\n      <td>WL-012</td>\n      <td>Desplaines St &amp; Kinzie St</td>\n      <td>TA1306000003</td>\n      <td>41.883248</td>\n      <td>-87.641244</td>\n      <td>41.888716</td>\n      <td>-87.644448</td>\n      <td>casual</td>\n      <td>0 days 00:03:31</td>\n      <td>Thursday</td>\n    </tr>\n  </tbody>\n</table>\n<p>80128 rows × 15 columns</p>\n</div>"
     },
     "execution_count": 24,
     "metadata": {},
     "output_type": "execute_result"
    }
   ],
   "source": [
    "df"
   ],
   "metadata": {
    "collapsed": false,
    "pycharm": {
     "name": "#%%\n"
    }
   }
  },
  {
   "cell_type": "code",
   "execution_count": 35,
   "outputs": [
    {
     "data": {
      "text/plain": "<AxesSubplot:xlabel='day_of_week', ylabel='count'>"
     },
     "execution_count": 35,
     "metadata": {},
     "output_type": "execute_result"
    },
    {
     "data": {
      "text/plain": "<Figure size 842.4x595.44 with 1 Axes>",
      "image/png": "[encoded data removed]"
     },
     "metadata": {},
     "output_type": "display_data"
    }
   ],
   "source": [
    "sns.set(rc={'figure.figsize':(11.7,8.27)})\n",
    "sns.countplot(x='day_of_week', hue='member_casual', data= df)"
   ],
   "metadata": {
    "collapsed": false,
    "pycharm": {
     "name": "#%%\n"
    }
   }
  },
  {
   "cell_type": "code",
   "execution_count": 36,
   "outputs": [
    {
     "data": {
      "text/plain": "<AxesSubplot:xlabel='rideable_type', ylabel='count'>"
     },
     "execution_count": 36,
     "metadata": {},
     "output_type": "execute_result"
    },
    {
     "data": {
      "text/plain": "<Figure size 842.4x595.44 with 1 Axes>",
      "image/png": "[encoded data removed]"
     },
     "metadata": {},
     "output_type": "display_data"
    }
   ],
   "source": [
    "sns.countplot(x='rideable_type', hue='member_casual', data= df)"
   ],
   "metadata": {
    "collapsed": false,
    "pycharm": {
     "name": "#%%\n"
    }
   }
  },
  {
   "cell_type": "code",
   "execution_count": 40,
   "outputs": [
    {
     "data": {
      "text/plain": "{datetime64[ns]: ['started_at', 'ended_at'], float64: ['start_lat', 'start_lng', 'end_lat', 'end_lng'], timedelta64[ns]: ['ride_length'], object: ['ride_id', 'rideable_type', 'start_station_name', 'start_station_id', 'end_station_name', 'end_station_id', 'member_casual', 'day_of_week']}"
     },
     "execution_count": 40,
     "metadata": {},
     "output_type": "execute_result"
    }
   ],
   "source": [
    "df.columns.to_series().groupby(data.dtypes).groups"
   ],
   "metadata": {
    "collapsed": false,
    "pycharm": {
     "name": "#%%\n"
    }
   }
  },
  {
   "cell_type": "code",
   "execution_count": 48,
   "outputs": [
    {
     "data": {
      "text/plain": "<AxesSubplot:xlabel='day_of_week', ylabel='count'>"
     },
     "execution_count": 48,
     "metadata": {},
     "output_type": "execute_result"
    },
    {
     "data": {
      "text/plain": "<Figure size 842.4x595.44 with 1 Axes>",
      "image/png": "[encoded data removed]"
     },
     "metadata": {},
     "output_type": "display_data"
    }
   ],
   "source": [
    "sns.countplot(x='day_of_week', hue='rideable_type', data= df)"
   ],
   "metadata": {
    "collapsed": false,
    "pycharm": {
     "name": "#%%\n"
    }
   }
  },
  {
   "cell_type": "code",
   "execution_count": 50,
   "outputs": [],
   "source": [
    "df.to_csv('./Data/cleaned_data.csv', index=False, header=True)"
   ],
   "metadata": {
    "collapsed": false,
    "pycharm": {
     "name": "#%%\n"
    }
   }
  }
 ],
 "metadata": {
  "kernelspec": {
   "display_name": "Python 3",
   "language": "python",
   "name": "python3"
  },
  "language_info": {
   "codemirror_mode": {
    "name": "ipython",
    "version": 2
   },
   "file_extension": ".py",
   "mimetype": "text/x-python",
   "name": "python",
   "nbconvert_exporter": "python",
   "pygments_lexer": "ipython2",
   "version": "2.7.6"
  }
 },
 "nbformat": 4,
 "nbformat_minor": 0
}